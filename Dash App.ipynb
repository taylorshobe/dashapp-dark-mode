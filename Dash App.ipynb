{
 "cells": [
  {
   "cell_type": "code",
   "execution_count": 2,
   "metadata": {},
   "outputs": [],
   "source": [
    "import dash\n",
    "import dash_core_components as dcc\n",
    "import dash_html_components as html\n",
    "from dash.dependencies import Input, Output\n",
    "import dash_bootstrap_components as dbc"
   ]
  },
  {
   "cell_type": "code",
   "execution_count": 3,
   "metadata": {},
   "outputs": [
    {
     "data": {
      "text/html": [
       "\n",
       "        <iframe\n",
       "            width=\"100%\"\n",
       "            height=\"650\"\n",
       "            src=\"http://127.0.0.1:8050/\"\n",
       "            frameborder=\"0\"\n",
       "            allowfullscreen\n",
       "        ></iframe>\n",
       "        "
      ],
      "text/plain": [
       "<IPython.lib.display.IFrame at 0x2026fd74550>"
      ]
     },
     "metadata": {},
     "output_type": "display_data"
    }
   ],
   "source": [
    "# Start the app with external stylesheets\n",
    "app = dash.Dash(__name__, external_stylesheets=[dbc.themes.BOOTSTRAP])\n",
    "\n",
    "# Define a light and dark theme\n",
    "LIGHT_STYLE = {\n",
    "    \"background-color\": \"#FFFFFF\",\n",
    "    \"color\": \"#000000\"\n",
    "}\n",
    "\n",
    "DARK_STYLE = {\n",
    "    \"background-color\": \"#2C3E50\",\n",
    "    \"color\": \"#FFFFFF\"\n",
    "}\n",
    "\n",
    "app.layout = html.Div(style=LIGHT_STYLE, id=\"main-div\", children=[\n",
    "    dbc.Checklist(\n",
    "        options=[{\"label\": \"Dark Mode\", \"value\": \"dark\"}],\n",
    "        value=[],\n",
    "        id=\"theme-toggle\",\n",
    "        inline=True,\n",
    "        switch=True,\n",
    "    ),\n",
    "    html.H1(\"My Dash App\"),\n",
    "    html.P(\"This is a paragraph.\"),\n",
    "])\n",
    "\n",
    "@app.callback(\n",
    "    Output(\"main-div\", \"style\"),\n",
    "    Input(\"theme-toggle\", \"value\")\n",
    ")\n",
    "def update_theme(theme):\n",
    "    if \"dark\" in theme:\n",
    "        return DARK_STYLE\n",
    "    return LIGHT_STYLE\n",
    "\n",
    "if __name__ == '__main__':\n",
    "    app.run_server(debug=True)\n"
   ]
  },
  {
   "cell_type": "code",
   "execution_count": null,
   "metadata": {},
   "outputs": [],
   "source": []
  }
 ],
 "metadata": {
  "kernelspec": {
   "display_name": "Python 3",
   "language": "python",
   "name": "python3"
  },
  "language_info": {
   "codemirror_mode": {
    "name": "ipython",
    "version": 3
   },
   "file_extension": ".py",
   "mimetype": "text/x-python",
   "name": "python",
   "nbconvert_exporter": "python",
   "pygments_lexer": "ipython3",
   "version": "3.7.3"
  }
 },
 "nbformat": 4,
 "nbformat_minor": 2
}
